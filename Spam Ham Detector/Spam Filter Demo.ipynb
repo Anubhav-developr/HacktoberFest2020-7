{
 "cells": [
  {
   "cell_type": "markdown",
   "metadata": {},
   "source": [
    "# An implementation of a Spam Filter in Python that uses the Naive Bayes Model to classify emails as spam or ham. The program uses term frequency and inverse document frequency to classify a mail as ham or spam. "
   ]
  },
  {
   "cell_type": "markdown",
   "metadata": {},
   "source": [
    "## Let's import some libraries we will need"
   ]
  },
  {
   "cell_type": "code",
   "execution_count": 1,
   "metadata": {},
   "outputs": [],
   "source": [
    "import os\n",
    "import pandas as pd\n",
    "import string\n",
    "import matplotlib.pyplot as plt\n",
    "import seaborn as sns\n",
    "from sklearn.model_selection import train_test_split\n",
    "from sklearn.feature_extraction.text import CountVectorizer\n",
    "from sklearn.feature_extraction.text import TfidfTransformer\n",
    "from sklearn.naive_bayes import MultinomialNB\n",
    "from sklearn.metrics import classification_report, confusion_matrix, accuracy_score\n",
    "from nltk.corpus import stopwords\n",
    "from nltk.stem import PorterStemmer"
   ]
  },
  {
   "cell_type": "markdown",
   "metadata": {},
   "source": [
    "To show Visuals in terminal"
   ]
  },
  {
   "cell_type": "code",
   "execution_count": 2,
   "metadata": {},
   "outputs": [],
   "source": [
    "%matplotlib inline"
   ]
  },
  {
   "cell_type": "markdown",
   "metadata": {},
   "source": [
    "Let's add a method to get emails from the folder 'emails' and add labels to it"
   ]
  },
  {
   "cell_type": "code",
   "execution_count": 3,
   "metadata": {},
   "outputs": [],
   "source": [
    "def create_dataset():\n",
    "    path = 'emails/'\n",
    "    files = os.listdir(path)\n",
    "    emails = [path + email for email in files]\n",
    "    labels = []\n",
    "    mail_text = []\n",
    "    for email in emails:\n",
    "        if \"ham\" in email:\n",
    "            labels.append(1)\n",
    "        elif \"spam\" in email:\n",
    "            labels.append(0)\n",
    "        with open(email, 'r', encoding=\"ascii\", errors=\"ignore\") as f:\n",
    "            data = f.read()\n",
    "        mail_text.append(data)\n",
    "        f.close()\n",
    "    print(len(labels))\n",
    "    return emails, mail_text, labels"
   ]
  },
  {
   "cell_type": "markdown",
   "metadata": {},
   "source": [
    "Let's add a method to process the text in mails"
   ]
  },
  {
   "cell_type": "code",
   "execution_count": 4,
   "metadata": {},
   "outputs": [],
   "source": [
    "def process_words(mail):\n",
    "    # Get a List of all words excluding punctuations\n",
    "    words = [char for char in mail if char not in string.punctuation]\n",
    "    # Join back the words\n",
    "    words = ''.join(words)\n",
    "    # Remove stopwords: words that are common and don't help in distinguishing\n",
    "    words = [c for c in words.split() if c not in stopwords.words('english')]\n",
    "    # Stremming The words (fast, faster, fastest are same as fast)\n",
    "    ps = PorterStemmer()\n",
    "    words = [ps.stem(w) for w in words]\n",
    "    return words"
   ]
  },
  {
   "cell_type": "markdown",
   "metadata": {},
   "source": [
    "Now Let's have a main method "
   ]
  },
  {
   "cell_type": "code",
   "execution_count": 5,
   "metadata": {},
   "outputs": [
    {
     "name": "stdout",
     "output_type": "stream",
     "text": [
      "5172\n"
     ]
    }
   ],
   "source": [
    "if __name__ == '__main__':\n",
    "    paths, mail_text, labels = create_dataset()"
   ]
  },
  {
   "cell_type": "markdown",
   "metadata": {},
   "source": [
    "Create a dataFrame"
   ]
  },
  {
   "cell_type": "code",
   "execution_count": 8,
   "metadata": {},
   "outputs": [],
   "source": [
    "    d = {\"Path\": paths, \"Text\": mail_text, \"Label\": labels}\n",
    "    mails_with_labels = pd.DataFrame(d)"
   ]
  },
  {
   "cell_type": "markdown",
   "metadata": {},
   "source": [
    "Add a Column 'length' to mails"
   ]
  },
  {
   "cell_type": "code",
   "execution_count": 9,
   "metadata": {},
   "outputs": [],
   "source": [
    "    mails_with_labels['length'] = mails_with_labels['Text'].apply(len)"
   ]
  },
  {
   "cell_type": "code",
   "execution_count": 10,
   "metadata": {},
   "outputs": [
    {
     "data": {
      "text/html": [
       "<div>\n",
       "<style scoped>\n",
       "    .dataframe tbody tr th:only-of-type {\n",
       "        vertical-align: middle;\n",
       "    }\n",
       "\n",
       "    .dataframe tbody tr th {\n",
       "        vertical-align: top;\n",
       "    }\n",
       "\n",
       "    .dataframe thead th {\n",
       "        text-align: right;\n",
       "    }\n",
       "</style>\n",
       "<table border=\"1\" class=\"dataframe\">\n",
       "  <thead>\n",
       "    <tr style=\"text-align: right;\">\n",
       "      <th></th>\n",
       "      <th>Path</th>\n",
       "      <th>Text</th>\n",
       "      <th>Label</th>\n",
       "      <th>length</th>\n",
       "    </tr>\n",
       "  </thead>\n",
       "  <tbody>\n",
       "    <tr>\n",
       "      <th>0</th>\n",
       "      <td>emails/0234.2000-01-21.farmer.ham.txt</td>\n",
       "      <td>Subject: gmt . inc .\\ntom ,\\nplease create a s...</td>\n",
       "      <td>1</td>\n",
       "      <td>314</td>\n",
       "    </tr>\n",
       "    <tr>\n",
       "      <th>1</th>\n",
       "      <td>emails/0693.2004-03-21.GP.spam.txt</td>\n",
       "      <td>Subject: we care , no lines ! no hassle ! or e...</td>\n",
       "      <td>0</td>\n",
       "      <td>61</td>\n",
       "    </tr>\n",
       "    <tr>\n",
       "      <th>2</th>\n",
       "      <td>emails/4104.2005-03-19.GP.spam.txt</td>\n",
       "      <td>Subject: online pharmacy zu\\nwant a cheap pers...</td>\n",
       "      <td>0</td>\n",
       "      <td>87</td>\n",
       "    </tr>\n",
       "    <tr>\n",
       "      <th>3</th>\n",
       "      <td>emails/4592.2001-05-22.farmer.ham.txt</td>\n",
       "      <td>Subject: daren ,\\nthe firm trading waha book h...</td>\n",
       "      <td>1</td>\n",
       "      <td>554</td>\n",
       "    </tr>\n",
       "    <tr>\n",
       "      <th>4</th>\n",
       "      <td>emails/5025.2001-10-31.farmer.ham.txt</td>\n",
       "      <td>Subject: re : tglo status\\nsorry bout the firs...</td>\n",
       "      <td>1</td>\n",
       "      <td>2372</td>\n",
       "    </tr>\n",
       "  </tbody>\n",
       "</table>\n",
       "</div>"
      ],
      "text/plain": [
       "                                    Path  \\\n",
       "0  emails/0234.2000-01-21.farmer.ham.txt   \n",
       "1     emails/0693.2004-03-21.GP.spam.txt   \n",
       "2     emails/4104.2005-03-19.GP.spam.txt   \n",
       "3  emails/4592.2001-05-22.farmer.ham.txt   \n",
       "4  emails/5025.2001-10-31.farmer.ham.txt   \n",
       "\n",
       "                                                Text  Label  length  \n",
       "0  Subject: gmt . inc .\\ntom ,\\nplease create a s...      1     314  \n",
       "1  Subject: we care , no lines ! no hassle ! or e...      0      61  \n",
       "2  Subject: online pharmacy zu\\nwant a cheap pers...      0      87  \n",
       "3  Subject: daren ,\\nthe firm trading waha book h...      1     554  \n",
       "4  Subject: re : tglo status\\nsorry bout the firs...      1    2372  "
      ]
     },
     "execution_count": 10,
     "metadata": {},
     "output_type": "execute_result"
    }
   ],
   "source": [
    "    mails_with_labels.head() "
   ]
  },
  {
   "cell_type": "code",
   "execution_count": 9,
   "metadata": {},
   "outputs": [
    {
     "data": {
      "text/html": [
       "<div>\n",
       "<style scoped>\n",
       "    .dataframe tbody tr th:only-of-type {\n",
       "        vertical-align: middle;\n",
       "    }\n",
       "\n",
       "    .dataframe tbody tr th {\n",
       "        vertical-align: top;\n",
       "    }\n",
       "\n",
       "    .dataframe thead tr th {\n",
       "        text-align: left;\n",
       "    }\n",
       "\n",
       "    .dataframe thead tr:last-of-type th {\n",
       "        text-align: right;\n",
       "    }\n",
       "</style>\n",
       "<table border=\"1\" class=\"dataframe\">\n",
       "  <thead>\n",
       "    <tr>\n",
       "      <th></th>\n",
       "      <th colspan=\"8\" halign=\"left\">length</th>\n",
       "    </tr>\n",
       "    <tr>\n",
       "      <th></th>\n",
       "      <th>count</th>\n",
       "      <th>mean</th>\n",
       "      <th>std</th>\n",
       "      <th>min</th>\n",
       "      <th>25%</th>\n",
       "      <th>50%</th>\n",
       "      <th>75%</th>\n",
       "      <th>max</th>\n",
       "    </tr>\n",
       "    <tr>\n",
       "      <th>Label</th>\n",
       "      <th></th>\n",
       "      <th></th>\n",
       "      <th></th>\n",
       "      <th></th>\n",
       "      <th></th>\n",
       "      <th></th>\n",
       "      <th></th>\n",
       "      <th></th>\n",
       "    </tr>\n",
       "  </thead>\n",
       "  <tbody>\n",
       "    <tr>\n",
       "      <th>0</th>\n",
       "      <td>1500.0</td>\n",
       "      <td>1203.348667</td>\n",
       "      <td>1800.211303</td>\n",
       "      <td>10.0</td>\n",
       "      <td>274.0</td>\n",
       "      <td>564.0</td>\n",
       "      <td>1240.5</td>\n",
       "      <td>21749.0</td>\n",
       "    </tr>\n",
       "    <tr>\n",
       "      <th>1</th>\n",
       "      <td>3672.0</td>\n",
       "      <td>959.392974</td>\n",
       "      <td>1360.494244</td>\n",
       "      <td>17.0</td>\n",
       "      <td>227.0</td>\n",
       "      <td>517.5</td>\n",
       "      <td>1208.0</td>\n",
       "      <td>31860.0</td>\n",
       "    </tr>\n",
       "  </tbody>\n",
       "</table>\n",
       "</div>"
      ],
      "text/plain": [
       "       length                                                               \n",
       "        count         mean          std   min    25%    50%     75%      max\n",
       "Label                                                                       \n",
       "0      1500.0  1203.348667  1800.211303  10.0  274.0  564.0  1240.5  21749.0\n",
       "1      3672.0   959.392974  1360.494244  17.0  227.0  517.5  1208.0  31860.0"
      ]
     },
     "execution_count": 9,
     "metadata": {},
     "output_type": "execute_result"
    }
   ],
   "source": [
    "    mails_with_labels.groupby('Label').describe()"
   ]
  },
  {
   "cell_type": "code",
   "execution_count": 10,
   "metadata": {},
   "outputs": [
    {
     "data": {
      "text/html": [
       "<div>\n",
       "<style scoped>\n",
       "    .dataframe tbody tr th:only-of-type {\n",
       "        vertical-align: middle;\n",
       "    }\n",
       "\n",
       "    .dataframe tbody tr th {\n",
       "        vertical-align: top;\n",
       "    }\n",
       "\n",
       "    .dataframe thead th {\n",
       "        text-align: right;\n",
       "    }\n",
       "</style>\n",
       "<table border=\"1\" class=\"dataframe\">\n",
       "  <thead>\n",
       "    <tr style=\"text-align: right;\">\n",
       "      <th></th>\n",
       "      <th>Path</th>\n",
       "      <th>Text</th>\n",
       "      <th>Label</th>\n",
       "      <th>length</th>\n",
       "    </tr>\n",
       "  </thead>\n",
       "  <tbody>\n",
       "    <tr>\n",
       "      <th>0</th>\n",
       "      <td>emails/0234.2000-01-21.farmer.ham.txt</td>\n",
       "      <td>Subject: gmt . inc .\\ntom ,\\nplease create a s...</td>\n",
       "      <td>1</td>\n",
       "      <td>314</td>\n",
       "    </tr>\n",
       "    <tr>\n",
       "      <th>1</th>\n",
       "      <td>emails/0693.2004-03-21.GP.spam.txt</td>\n",
       "      <td>Subject: we care , no lines ! no hassle ! or e...</td>\n",
       "      <td>0</td>\n",
       "      <td>61</td>\n",
       "    </tr>\n",
       "    <tr>\n",
       "      <th>2</th>\n",
       "      <td>emails/4104.2005-03-19.GP.spam.txt</td>\n",
       "      <td>Subject: online pharmacy zu\\nwant a cheap pers...</td>\n",
       "      <td>0</td>\n",
       "      <td>87</td>\n",
       "    </tr>\n",
       "    <tr>\n",
       "      <th>3</th>\n",
       "      <td>emails/4592.2001-05-22.farmer.ham.txt</td>\n",
       "      <td>Subject: daren ,\\nthe firm trading waha book h...</td>\n",
       "      <td>1</td>\n",
       "      <td>554</td>\n",
       "    </tr>\n",
       "    <tr>\n",
       "      <th>4</th>\n",
       "      <td>emails/5025.2001-10-31.farmer.ham.txt</td>\n",
       "      <td>Subject: re : tglo status\\nsorry bout the firs...</td>\n",
       "      <td>1</td>\n",
       "      <td>2372</td>\n",
       "    </tr>\n",
       "  </tbody>\n",
       "</table>\n",
       "</div>"
      ],
      "text/plain": [
       "                                    Path  \\\n",
       "0  emails/0234.2000-01-21.farmer.ham.txt   \n",
       "1     emails/0693.2004-03-21.GP.spam.txt   \n",
       "2     emails/4104.2005-03-19.GP.spam.txt   \n",
       "3  emails/4592.2001-05-22.farmer.ham.txt   \n",
       "4  emails/5025.2001-10-31.farmer.ham.txt   \n",
       "\n",
       "                                                Text  Label  length  \n",
       "0  Subject: gmt . inc .\\ntom ,\\nplease create a s...      1     314  \n",
       "1  Subject: we care , no lines ! no hassle ! or e...      0      61  \n",
       "2  Subject: online pharmacy zu\\nwant a cheap pers...      0      87  \n",
       "3  Subject: daren ,\\nthe firm trading waha book h...      1     554  \n",
       "4  Subject: re : tglo status\\nsorry bout the firs...      1    2372  "
      ]
     },
     "execution_count": 10,
     "metadata": {},
     "output_type": "execute_result"
    }
   ],
   "source": [
    "    mails_with_labels.head()"
   ]
  },
  {
   "cell_type": "markdown",
   "metadata": {},
   "source": [
    "Let's analyse and visualize our Data"
   ]
  },
  {
   "cell_type": "code",
   "execution_count": 11,
   "metadata": {},
   "outputs": [
    {
     "data": {
      "text/plain": [
       "<matplotlib.axes._subplots.AxesSubplot at 0x7fcf032ff390>"
      ]
     },
     "execution_count": 11,
     "metadata": {},
     "output_type": "execute_result"
    },
    {
     "data": {
      "image/png": "[encoded data removed]",
      "text/plain": [
       "<Figure size 432x288 with 1 Axes>"
      ]
     },
     "metadata": {},
     "output_type": "display_data"
    }
   ],
   "source": [
    "    sns.set_style('darkgrid')\n",
    "    sns.countplot(x='Label', data=mails_with_labels)"
   ]
  },
  {
   "cell_type": "code",
   "execution_count": 12,
   "metadata": {},
   "outputs": [
    {
     "data": {
      "image/png": "[encoded data removed]",
      "text/plain": [
       "<Figure size 432x288 with 1 Axes>"
      ]
     },
     "metadata": {},
     "output_type": "display_data"
    }
   ],
   "source": [
    "    bar_plt = sns.barplot(x='Label', y='length', data=mails_with_labels)"
   ]
  },
  {
   "cell_type": "code",
   "execution_count": 13,
   "metadata": {},
   "outputs": [
    {
     "data": {
      "text/plain": [
       "<matplotlib.axes._subplots.AxesSubplot at 0x7fcf00267350>"
      ]
     },
     "execution_count": 13,
     "metadata": {},
     "output_type": "execute_result"
    },
    {
     "data": {
      "image/png": "[encoded data removed]",
      "text/plain": [
       "<Figure size 432x288 with 1 Axes>"
      ]
     },
     "metadata": {},
     "output_type": "display_data"
    }
   ],
   "source": [
    "    mails_with_labels['length'].plot.hist(bins=30)"
   ]
  },
  {
   "cell_type": "code",
   "execution_count": 14,
   "metadata": {},
   "outputs": [
    {
     "data": {
      "text/plain": [
       "array([<matplotlib.axes._subplots.AxesSubplot object at 0x7fcf00d32f10>,\n",
       "       <matplotlib.axes._subplots.AxesSubplot object at 0x7fcf00168ed0>],\n",
       "      dtype=object)"
      ]
     },
     "execution_count": 14,
     "metadata": {},
     "output_type": "execute_result"
    },
    {
     "data": {
      "image/png": "[encoded data removed]",
      "text/plain": [
       "<Figure size 432x288 with 2 Axes>"
      ]
     },
     "metadata": {},
     "output_type": "display_data"
    }
   ],
   "source": [
    "    mails_with_labels.hist(column='length', by='Label')"
   ]
  },
  {
   "cell_type": "code",
   "execution_count": 15,
   "metadata": {},
   "outputs": [
    {
     "data": {
      "text/plain": [
       "CountVectorizer(analyzer=<function process_words at 0x7fcf00d54050>,\n",
       "                binary=False, decode_error='strict',\n",
       "                dtype=<class 'numpy.int64'>, encoding='utf-8', input='content',\n",
       "                lowercase=True, max_df=1.0, max_features=None, min_df=1,\n",
       "                ngram_range=(1, 1), preprocessor=None, stop_words=None,\n",
       "                strip_accents=None, token_pattern='(?u)\\\\b\\\\w\\\\w+\\\\b',\n",
       "                tokenizer=None, vocabulary=None)"
      ]
     },
     "execution_count": 15,
     "metadata": {},
     "output_type": "execute_result"
    }
   ],
   "source": [
    "    bag_of_words_transformer = CountVectorizer(analyzer=process_words)\n",
    "    bag_of_words_transformer.fit(mails_with_labels['Text'])"
   ]
  },
  {
   "cell_type": "code",
   "execution_count": 16,
   "metadata": {},
   "outputs": [],
   "source": [
    "    mails_bag_of_words = bag_of_words_transformer.transform(mails_with_labels['Text'])"
   ]
  },
  {
   "cell_type": "code",
   "execution_count": 17,
   "metadata": {},
   "outputs": [],
   "source": [
    "    tfidf_transformer = TfidfTransformer().fit(mails_bag_of_words)\n",
    "    mails_tfidf = tfidf_transformer.transform(mails_bag_of_words)\n",
    "    X = mails_tfidf\n",
    "    y = mails_with_labels['Label']"
   ]
  },
  {
   "cell_type": "code",
   "execution_count": 18,
   "metadata": {},
   "outputs": [],
   "source": [
    "    X_train, X_test, y_train, y_test = train_test_split(X, y, test_size=0.25, random_state=101)"
   ]
  },
  {
   "cell_type": "code",
   "execution_count": 19,
   "metadata": {},
   "outputs": [
    {
     "name": "stdout",
     "output_type": "stream",
     "text": [
      "              precision    recall  f1-score   support\n",
      "\n",
      "           0       1.00      0.66      0.79       376\n",
      "           1       0.88      1.00      0.93       917\n",
      "\n",
      "    accuracy                           0.90      1293\n",
      "   macro avg       0.94      0.83      0.86      1293\n",
      "weighted avg       0.91      0.90      0.89      1293\n",
      "\n",
      "0.9002320185614849\n",
      "[[248 128]\n",
      " [  1 916]]\n"
     ]
    }
   ],
   "source": [
    "    modelNB = MultinomialNB()\n",
    "    modelNB.fit(X_train, y_train)\n",
    "    predictions = modelNB.predict(X_test)\n",
    "    print(classification_report(y_test, predictions))\n",
    "    print(accuracy_score(y_test, predictions))\n",
    "    print(confusion_matrix(y_test, predictions))"
   ]
  },
  {
   "cell_type": "markdown",
   "metadata": {},
   "source": [
    "Now let's try some other Models"
   ]
  },
  {
   "cell_type": "code",
   "execution_count": 20,
   "metadata": {},
   "outputs": [
    {
     "name": "stdout",
     "output_type": "stream",
     "text": [
      "0.9791183294663574\n",
      "[[374   2]\n",
      " [ 25 892]]\n"
     ]
    }
   ],
   "source": [
    "    from sklearn.svm import SVC\n",
    "    modelSV = SVC(gamma=0.001, C=100)\n",
    "    modelSV.fit(X_train, y_train)\n",
    "    predictions = modelSV.predict(X_test)\n",
    "    print(accuracy_score(y_test, predictions))\n",
    "    print(confusion_matrix(y_test, predictions))"
   ]
  },
  {
   "cell_type": "markdown",
   "metadata": {},
   "source": [
    "SVC works better"
   ]
  },
  {
   "cell_type": "code",
   "execution_count": 21,
   "metadata": {},
   "outputs": [],
   "source": [
    "    from sklearn.model_selection import GridSearchCV"
   ]
  },
  {
   "cell_type": "code",
   "execution_count": 22,
   "metadata": {},
   "outputs": [],
   "source": [
    "    param_grid = {'C' : [.1, 1, 10, 1000, 1000], 'gamma' : [1, .1, .01, .001, .0001]}"
   ]
  },
  {
   "cell_type": "code",
   "execution_count": 23,
   "metadata": {},
   "outputs": [],
   "source": [
    "    grid = GridSearchCV(SVC(), param_grid)"
   ]
  },
  {
   "cell_type": "code",
   "execution_count": 24,
   "metadata": {},
   "outputs": [
    {
     "data": {
      "text/plain": [
       "GridSearchCV(cv=None, error_score=nan,\n",
       "             estimator=SVC(C=1.0, break_ties=False, cache_size=200,\n",
       "                           class_weight=None, coef0=0.0,\n",
       "                           decision_function_shape='ovr', degree=3,\n",
       "                           gamma='scale', kernel='rbf', max_iter=-1,\n",
       "                           probability=False, random_state=None, shrinking=True,\n",
       "                           tol=0.001, verbose=False),\n",
       "             iid='deprecated', n_jobs=None,\n",
       "             param_grid={'C': [0.1, 1, 10, 1000, 1000],\n",
       "                         'gamma': [1, 0.1, 0.01, 0.001, 0.0001]},\n",
       "             pre_dispatch='2*n_jobs', refit=True, return_train_score=False,\n",
       "             scoring=None, verbose=0)"
      ]
     },
     "execution_count": 24,
     "metadata": {},
     "output_type": "execute_result"
    }
   ],
   "source": [
    "    grid.fit(X_train, y_train)"
   ]
  },
  {
   "cell_type": "code",
   "execution_count": 25,
   "metadata": {},
   "outputs": [
    {
     "name": "stdout",
     "output_type": "stream",
     "text": [
      "0.9860788863109049\n",
      "[[372   4]\n",
      " [ 14 903]]\n"
     ]
    }
   ],
   "source": [
    "    optimal_C = grid.best_params_['C']\n",
    "    optimal_gamma = grid.best_params_['gamma']\n",
    "    optimal_modelSV = SVC(gamma=optimal_gamma, C=optimal_C)\n",
    "    optimal_modelSV.fit(X_train, y_train)\n",
    "    predictions = optimal_modelSV.predict(X_test)\n",
    "    print(accuracy_score(y_test, predictions))\n",
    "    print(confusion_matrix(y_test, predictions))"
   ]
  },
  {
   "cell_type": "code",
   "execution_count": 26,
   "metadata": {},
   "outputs": [],
   "source": [
    "    from sklearn.cluster import KMeans"
   ]
  },
  {
   "cell_type": "code",
   "execution_count": 27,
   "metadata": {},
   "outputs": [],
   "source": [
    "    k_means = KMeans(n_clusters=2)"
   ]
  },
  {
   "cell_type": "code",
   "execution_count": 28,
   "metadata": {},
   "outputs": [
    {
     "data": {
      "text/plain": [
       "KMeans(algorithm='auto', copy_x=True, init='k-means++', max_iter=300,\n",
       "       n_clusters=2, n_init=10, n_jobs=None, precompute_distances='auto',\n",
       "       random_state=None, tol=0.0001, verbose=0)"
      ]
     },
     "execution_count": 28,
     "metadata": {},
     "output_type": "execute_result"
    }
   ],
   "source": [
    "    k_means.fit(X_train, y_train)"
   ]
  },
  {
   "cell_type": "code",
   "execution_count": 31,
   "metadata": {},
   "outputs": [],
   "source": [
    "    pred = k_means.predict(X_test)"
   ]
  },
  {
   "cell_type": "code",
   "execution_count": 32,
   "metadata": {},
   "outputs": [
    {
     "name": "stdout",
     "output_type": "stream",
     "text": [
      "0.588553750966744\n",
      "[[  0 376]\n",
      " [156 761]]\n"
     ]
    }
   ],
   "source": [
    "    print(accuracy_score(y_test, pred))\n",
    "    print(confusion_matrix(y_test, pred))"
   ]
  }
 ],
 "metadata": {
  "kernelspec": {
   "display_name": "Python 3",
   "language": "python",
   "name": "python3"
  },
  "language_info": {
   "codemirror_mode": {
    "name": "ipython",
    "version": 3
   },
   "file_extension": ".py",
   "mimetype": "text/x-python",
   "name": "python",
   "nbconvert_exporter": "python",
   "pygments_lexer": "ipython3",
   "version": "3.7.6"
  }
 },
 "nbformat": 4,
 "nbformat_minor": 4
}
