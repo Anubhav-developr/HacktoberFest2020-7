{
 "cells": [
  {
   "cell_type": "code",
   "execution_count": 1,
   "metadata": {},
   "outputs": [],
   "source": [
    "import numpy as np"
   ]
  },
  {
   "cell_type": "markdown",
   "metadata": {},
   "source": [
    "# Comparison Operators as ufuncs"
   ]
  },
  {
   "cell_type": "code",
   "execution_count": 2,
   "metadata": {},
   "outputs": [
    {
     "data": {
      "text/plain": [
       "array([ True,  True, False, False, False])"
      ]
     },
     "execution_count": 2,
     "metadata": {},
     "output_type": "execute_result"
    }
   ],
   "source": [
    "x = np.array([1,2,3,4,5])\n",
    "x < 3"
   ]
  },
  {
   "cell_type": "code",
   "execution_count": 3,
   "metadata": {},
   "outputs": [
    {
     "data": {
      "text/plain": [
       "array([False, False, False,  True,  True])"
      ]
     },
     "execution_count": 3,
     "metadata": {},
     "output_type": "execute_result"
    }
   ],
   "source": [
    "x > 3"
   ]
  },
  {
   "cell_type": "code",
   "execution_count": 4,
   "metadata": {},
   "outputs": [
    {
     "data": {
      "text/plain": [
       "array([ True,  True,  True, False, False])"
      ]
     },
     "execution_count": 4,
     "metadata": {},
     "output_type": "execute_result"
    }
   ],
   "source": [
    "x <= 3"
   ]
  },
  {
   "cell_type": "code",
   "execution_count": 5,
   "metadata": {},
   "outputs": [
    {
     "data": {
      "text/plain": [
       "array([False,  True, False, False, False])"
      ]
     },
     "execution_count": 5,
     "metadata": {},
     "output_type": "execute_result"
    }
   ],
   "source": [
    "# We can do element by element comparison also\n",
    "(2 * x) == (x ** 2)"
   ]
  },
  {
   "cell_type": "code",
   "execution_count": 6,
   "metadata": {},
   "outputs": [
    {
     "data": {
      "text/plain": [
       "array([False, False, False,  True,  True])"
      ]
     },
     "execution_count": 6,
     "metadata": {},
     "output_type": "execute_result"
    }
   ],
   "source": [
    "# We have numpy ufuncs for these operations\n",
    "np.less(3,x) # Similar ot np.greater(x,3)"
   ]
  },
  {
   "cell_type": "code",
   "execution_count": 9,
   "metadata": {},
   "outputs": [
    {
     "data": {
      "text/plain": [
       "array([ True,  True, False, False, False])"
      ]
     },
     "execution_count": 9,
     "metadata": {},
     "output_type": "execute_result"
    }
   ],
   "source": [
    "np.less(x,3)"
   ]
  },
  {
   "cell_type": "code",
   "execution_count": 10,
   "metadata": {},
   "outputs": [
    {
     "data": {
      "text/plain": [
       "array([False,  True,  True,  True,  True])"
      ]
     },
     "execution_count": 10,
     "metadata": {},
     "output_type": "execute_result"
    }
   ],
   "source": [
    "np.greater_equal(x,2)"
   ]
  },
  {
   "cell_type": "code",
   "execution_count": 18,
   "metadata": {},
   "outputs": [],
   "source": [
    "#Comparing the time taken by the two methods\n",
    "\n",
    "a = np.random.randint(0,10000,(1,1000))"
   ]
  },
  {
   "cell_type": "code",
   "execution_count": 19,
   "metadata": {
    "scrolled": true
   },
   "outputs": [
    {
     "data": {
      "text/plain": [
       "array([[3688, 5944, 8858, 6781, 2198, 8820, 5064, 2655, 7350, 6184, 9882,\n",
       "        5901, 2373,  370, 2412, 6147, 9334, 5763,  628, 8992, 4723, 2459,\n",
       "        9704,  113, 2085, 9430, 6948, 2437, 8351, 6043, 8946, 6239,  147,\n",
       "        8849, 2418, 7079, 3137, 7448, 6396, 6611, 7013, 9525, 4763, 7067,\n",
       "        4515, 2996, 7835,  839, 9538, 3768, 7089, 8312, 1891, 5083, 1756,\n",
       "        3796, 1413, 7697,  278,  179, 3381, 5015, 2007, 3844, 6279, 4978,\n",
       "        5322,  472, 5403, 6369, 5401, 2768, 4332, 6772, 5175, 3770, 9335,\n",
       "        5896,  442, 9899, 4280, 5788, 6586, 2470, 8345, 4222, 4044, 3652,\n",
       "        1851, 4302, 8970, 9054, 1978, 5513, 7654, 6325, 4274, 4394, 8834,\n",
       "        8795, 9326, 2477,    5, 8709, 3585,  737, 3826, 2662, 2777,  453,\n",
       "        8074, 9371, 1943, 2648,  326, 8116, 4944, 9280, 7398, 2047, 8385,\n",
       "        7490, 4251, 2969, 8220, 4809,  950, 9880, 8318, 8282, 9486, 5493,\n",
       "         278, 2257, 8131, 6450, 1578, 5867, 6413, 1501, 3069, 4821, 8823,\n",
       "        7432, 4571, 9754, 8876, 8300, 7308, 2244, 6736, 5215, 8081, 4869,\n",
       "        9417, 2253,  116, 5959, 8832, 7948, 2387, 3648, 4128,   41, 4708,\n",
       "        8968, 8594, 1936, 9998, 7420, 4908, 3744, 3397, 8574, 2024,  487,\n",
       "        7326, 7025,  619, 2997,  108,  861, 1733, 9190, 3866, 5475, 5392,\n",
       "        6746, 5215, 4143,  370, 7210, 6552, 6256, 9517, 3448, 6677, 6805,\n",
       "        5133, 6352, 9215, 9448, 7833, 8700, 2003, 3937, 7561, 7105,  896,\n",
       "        8210,  246,  277, 1425, 7777, 7443, 6089, 7194,  915, 1149, 6119,\n",
       "        3714, 3955, 9185, 3427, 9664, 6915, 8799, 8448, 3588, 1206, 2920,\n",
       "        8648,  566, 4112, 4242,  983, 9085, 2745, 6706, 8107, 8334, 6759,\n",
       "        6149, 6409, 8035, 6625, 1954, 8241,  418, 5356,  503, 6280, 4992,\n",
       "        2372, 4094, 1441, 2457, 5363, 3351, 7043, 1388, 7554, 4919, 7476,\n",
       "        6038,   67, 8855, 7568, 4839, 9403, 2724, 1535, 7708, 6760, 3779,\n",
       "        8386, 6935, 2074, 2665, 5281, 5365, 5727, 1827, 7455, 1745, 6948,\n",
       "        2683, 9269, 2821, 9186, 5871, 9483,  232, 3918, 5401, 5515, 6006,\n",
       "        4519,  639, 3218,  383, 3114, 5574, 3882, 2024, 2419, 1002, 2397,\n",
       "        6688, 9120,  343, 6201, 1778, 6084, 9589, 4423, 6071, 9695, 5941,\n",
       "         664, 5537, 7836,  823, 4964,  912, 2410, 9760, 1587, 8446, 6404,\n",
       "        5256, 3700, 5973, 1932, 4667, 6554, 9763, 1105, 2737, 8289, 8563,\n",
       "         315, 6907, 8350, 7907, 9546, 3747, 6676, 6560,  618, 1651, 5336,\n",
       "        1276, 7184, 3797, 6584, 1391, 1430, 1974, 2213, 2842, 1843, 2778,\n",
       "        6234, 2926, 1936, 5720, 9939, 4956, 6750, 3921, 4150, 8511, 8751,\n",
       "        5257, 3249, 7582, 1872, 2163, 6166, 3374, 7783, 4027, 7030, 5191,\n",
       "        5935, 6869, 7494, 2801, 8454, 1496, 3078, 5396, 8528, 8233, 4525,\n",
       "        8377, 5660, 1575, 9719, 8369, 6167, 1019, 4130, 8170, 9115, 9929,\n",
       "        1295, 4279, 1465, 2114, 5566, 3532, 7210, 8955, 5640,  299, 6711,\n",
       "        8383, 9146, 5431, 4872, 6097, 5897, 5498, 3248, 7823, 3616, 1758,\n",
       "        6547, 9207, 3047, 7852, 1042, 6353, 2019,  912, 8040, 2995, 2107,\n",
       "        6374, 5374, 6105,  331, 4887,  331, 1346, 5771, 5459, 3200, 8489,\n",
       "        3429, 4237, 7787, 2374, 8374,  794, 6084, 9113, 8921, 9657, 3542,\n",
       "        8027, 1060, 8549, 6557, 6523, 6092, 9947, 7472, 5069, 8972, 8832,\n",
       "        6593, 9688, 2667, 5496, 2118, 4618, 3815, 1723, 3813, 6396, 6742,\n",
       "        5625, 8375, 1315, 5341, 3486, 2812, 3858,  554, 2840, 9762, 9516,\n",
       "        5113, 7597, 1594, 9343, 3734, 7999,  232, 8225, 5638, 6844, 3377,\n",
       "        2430, 9096, 2089, 8587, 7935, 8993, 6426, 1413, 2281, 4171, 7892,\n",
       "        3085, 2003,  648, 4597, 5516, 1957, 5374, 1236,  320, 7425, 5928,\n",
       "        2104, 9308, 8978, 3966, 6074, 2896, 6301, 3840, 8552, 1613,  546,\n",
       "        4204, 9989, 8584, 1226, 1304, 3655, 3558, 4276, 2577, 6013, 9727,\n",
       "        7043, 3492, 2035, 4989, 2151,  750, 7111, 9825, 3045, 7691, 4005,\n",
       "        7010, 5250, 7706, 1688, 2025, 8767, 4092, 8858,  199,  516, 6278,\n",
       "        7788, 4734, 6451, 7601, 1690, 3583, 9799, 5334, 1433, 1178, 2569,\n",
       "        2377, 3916, 1569, 2796, 8814, 3102, 5699, 1098, 1437, 5213, 6552,\n",
       "        8946, 2713, 8878, 5493, 6363, 7321, 4498, 5302,   89, 4535, 8227,\n",
       "        5054, 6844, 3782, 4532, 7303, 1930, 1628, 3968,  155, 1332, 9682,\n",
       "         841, 6287, 7962, 9530, 3582, 7260,  978, 4431, 8680, 2452, 3512,\n",
       "        1144, 8390, 6352, 4327, 9427, 1986, 4428,  708,  588, 3663, 3938,\n",
       "        9749, 5926, 2268, 5263, 6068, 2753, 1942, 4518, 6112, 4683, 9127,\n",
       "        9083, 8806, 2032, 4246, 3754, 9100, 5163, 7135,  130, 1347, 6298,\n",
       "        9725, 7298, 8496, 2413, 5152, 6271, 9957, 4552, 5606, 4311, 2483,\n",
       "        3088, 4334, 5731, 4531, 1260, 1849,  563, 8264, 1117, 4309, 4662,\n",
       "        6138, 6844,  475, 9029, 9343, 9113, 8075, 7621, 4817, 5065, 2520,\n",
       "        4755, 3887, 2467, 4081,  283, 5778, 1287, 5917, 8014, 1817, 8379,\n",
       "        4199, 4294,  563, 1957, 9083, 2644, 5985, 2962, 3579, 7087, 2781,\n",
       "        8830, 7860, 5112, 6191, 5870, 3096, 5799, 6240, 3279, 5368, 8292,\n",
       "        1940, 2218, 9138, 9271, 8804, 4375, 8948, 3110, 7635, 5011, 5469,\n",
       "        8498, 3717, 3251, 7095,  642, 7933, 1423, 3726,  512, 6043, 8960,\n",
       "        1350, 7585,  258, 7985, 9658, 6668, 6142, 3325, 4116, 7087, 9624,\n",
       "        8613, 2160, 2370, 1943, 1209, 9575, 7723, 2660, 6404, 4717, 9762,\n",
       "        1259, 4183, 2473,  309, 5567, 5381, 6804, 4776, 1905, 9458, 9258,\n",
       "        8694, 6959, 7026, 1330, 5809, 7369, 8554, 7261, 4216, 2636, 6126,\n",
       "         135, 8067, 5497, 9702, 9836, 7466, 5604, 7529, 1220, 7796,  991,\n",
       "        1864, 1673, 2318, 6266,   63, 2603, 8851, 9669, 8142, 3753, 7190,\n",
       "        5119, 3108,  776, 1909, 1770, 7014,  343, 2549,  937, 7500,  101,\n",
       "        5807, 2628, 3446, 3239, 2133, 2441, 7657, 4661, 7744, 8630, 4768,\n",
       "        2129,  218, 4952, 9305,    8, 8336, 9884, 3368, 1298, 5775, 6446,\n",
       "        2849, 9014,  983, 7813, 2961, 2051, 4368, 8535, 6986, 1257, 4019,\n",
       "        1730, 4426, 9447, 8063, 2857,  827, 8318, 1863, 6922, 1016, 1208,\n",
       "        4098, 3596, 5019, 5472, 6657, 8495, 5972, 5214, 6553, 1688,  417,\n",
       "        1913, 2464, 7321, 2522, 4868,  999, 6322, 5779,  336, 4358, 3686,\n",
       "        6759, 4971, 4052, 3064, 5569, 5250,  652, 6341,  653, 7089, 8037,\n",
       "        9534, 2991,  497, 1520, 8727, 1028, 7839, 4228,  530, 1713, 9946,\n",
       "        3028,  572,  394, 4956, 1899, 9690, 6279, 2545, 5563, 1314, 6729,\n",
       "        3596, 7326, 4984, 2343, 8858, 7569, 6672, 8252, 9422, 7299, 2855,\n",
       "        6407, 7194,  264, 2201, 8908, 3008, 7413, 5583, 8310, 9008, 2086,\n",
       "        9796, 1989, 6713, 5787, 6706, 8188, 2054,  317, 6573, 7376, 2456,\n",
       "        6222, 6608, 6610, 5507, 5145, 4916, 1579,  647, 9296, 3605, 3038,\n",
       "        6076,  794, 5365, 1097, 7905, 9688,  931, 7138, 8815, 9657, 7949,\n",
       "        5488,  477, 9656, 2675, 4343, 7065, 4145, 7540, 4590, 4486, 9663,\n",
       "        4117, 8302, 7984, 5331, 2339,  682, 4886, 8507, 2530, 4426]])"
      ]
     },
     "execution_count": 19,
     "metadata": {},
     "output_type": "execute_result"
    }
   ],
   "source": [
    "a"
   ]
  },
  {
   "cell_type": "code",
   "execution_count": 20,
   "metadata": {},
   "outputs": [
    {
     "name": "stdout",
     "output_type": "stream",
     "text": [
      "The slowest run took 46.01 times longer than the fastest. This could mean that an intermediate result is being cached.\n",
      "1000000 loops, best of 5: 1.43 µs per loop\n"
     ]
    }
   ],
   "source": [
    "%timeit a>3456"
   ]
  },
  {
   "cell_type": "code",
   "execution_count": 21,
   "metadata": {},
   "outputs": [
    {
     "name": "stdout",
     "output_type": "stream",
     "text": [
      "The slowest run took 37.78 times longer than the fastest. This could mean that an intermediate result is being cached.\n",
      "1000000 loops, best of 5: 1.41 µs per loop\n"
     ]
    }
   ],
   "source": [
    "%timeit np.greater(a,3456)"
   ]
  },
  {
   "cell_type": "code",
   "execution_count": 22,
   "metadata": {},
   "outputs": [],
   "source": [
    "rng = np.random.RandomState(0)"
   ]
  },
  {
   "cell_type": "code",
   "execution_count": 25,
   "metadata": {},
   "outputs": [],
   "source": [
    "x = rng.randint(10,size=(3,4))"
   ]
  },
  {
   "cell_type": "code",
   "execution_count": 26,
   "metadata": {},
   "outputs": [
    {
     "data": {
      "text/plain": [
       "array([[5, 0, 3, 3],\n",
       "       [7, 9, 3, 5],\n",
       "       [2, 4, 7, 6]])"
      ]
     },
     "execution_count": 26,
     "metadata": {},
     "output_type": "execute_result"
    }
   ],
   "source": [
    "x"
   ]
  },
  {
   "cell_type": "code",
   "execution_count": 27,
   "metadata": {},
   "outputs": [
    {
     "data": {
      "text/plain": [
       "array([[ True,  True,  True,  True],\n",
       "       [False, False,  True,  True],\n",
       "       [ True,  True, False, False]])"
      ]
     },
     "execution_count": 27,
     "metadata": {},
     "output_type": "execute_result"
    }
   ],
   "source": [
    "x<6"
   ]
  },
  {
   "cell_type": "markdown",
   "metadata": {},
   "source": [
    "# Working with Boolean Arrays"
   ]
  },
  {
   "cell_type": "code",
   "execution_count": 28,
   "metadata": {},
   "outputs": [
    {
     "data": {
      "text/plain": [
       "array([[5, 0, 3, 3],\n",
       "       [7, 9, 3, 5],\n",
       "       [2, 4, 7, 6]])"
      ]
     },
     "execution_count": 28,
     "metadata": {},
     "output_type": "execute_result"
    }
   ],
   "source": [
    "x"
   ]
  },
  {
   "cell_type": "code",
   "execution_count": 31,
   "metadata": {},
   "outputs": [
    {
     "data": {
      "text/plain": [
       "8"
      ]
     },
     "execution_count": 31,
     "metadata": {},
     "output_type": "execute_result"
    }
   ],
   "source": [
    "np.count_nonzero(x<6)\n",
    "# To count the number of True entries in a Boolean array, \n",
    "# np.count_nonzero is useful"
   ]
  },
  {
   "cell_type": "code",
   "execution_count": 32,
   "metadata": {},
   "outputs": [
    {
     "data": {
      "text/plain": [
       "8"
      ]
     },
     "execution_count": 32,
     "metadata": {},
     "output_type": "execute_result"
    }
   ],
   "source": [
    "# Another way to get at this\n",
    "# information is to use np.sum\n",
    "# in this case, False is interpreted as 0 ,\n",
    "# and True is interpreted as 1\n",
    "\n",
    "np.sum(x<6)"
   ]
  },
  {
   "cell_type": "code",
   "execution_count": 33,
   "metadata": {},
   "outputs": [
    {
     "data": {
      "text/plain": [
       "54"
      ]
     },
     "execution_count": 33,
     "metadata": {},
     "output_type": "execute_result"
    }
   ],
   "source": [
    "np.sum(x)"
   ]
  },
  {
   "cell_type": "code",
   "execution_count": 34,
   "metadata": {},
   "outputs": [
    {
     "data": {
      "text/plain": [
       "array([2, 2, 2, 2])"
      ]
     },
     "execution_count": 34,
     "metadata": {},
     "output_type": "execute_result"
    }
   ],
   "source": [
    "np.sum(x<6,0)"
   ]
  },
  {
   "cell_type": "code",
   "execution_count": 36,
   "metadata": {},
   "outputs": [
    {
     "data": {
      "text/plain": [
       "array([4, 2, 2])"
      ]
     },
     "execution_count": 36,
     "metadata": {},
     "output_type": "execute_result"
    }
   ],
   "source": [
    "np.sum(x<6,1)"
   ]
  },
  {
   "cell_type": "code",
   "execution_count": 37,
   "metadata": {},
   "outputs": [
    {
     "name": "stdout",
     "output_type": "stream",
     "text": [
      "The slowest run took 224.34 times longer than the fastest. This could mean that an intermediate result is being cached.\n",
      "100000 loops, best of 5: 5.35 µs per loop\n"
     ]
    }
   ],
   "source": [
    "# Comparing times \n",
    "%timeit np.sum(a<3456)"
   ]
  },
  {
   "cell_type": "code",
   "execution_count": 38,
   "metadata": {},
   "outputs": [
    {
     "name": "stdout",
     "output_type": "stream",
     "text": [
      "The slowest run took 36.47 times longer than the fastest. This could mean that an intermediate result is being cached.\n",
      "100000 loops, best of 5: 1.99 µs per loop\n"
     ]
    }
   ],
   "source": [
    "%timeit np.count_nonzero(a<3456)"
   ]
  },
  {
   "cell_type": "code",
   "execution_count": 39,
   "metadata": {},
   "outputs": [],
   "source": [
    "# Even though count_nonzero is faster the advantage of np.sum() is that\n",
    "# we can do the operations along rows or columns as well"
   ]
  },
  {
   "cell_type": "code",
   "execution_count": 41,
   "metadata": {},
   "outputs": [
    {
     "data": {
      "text/plain": [
       "True"
      ]
     },
     "execution_count": 41,
     "metadata": {},
     "output_type": "execute_result"
    }
   ],
   "source": [
    "# are there any values greater than 8?\n",
    "np.any(x > 8)"
   ]
  },
  {
   "cell_type": "code",
   "execution_count": 42,
   "metadata": {},
   "outputs": [
    {
     "data": {
      "text/plain": [
       "False"
      ]
     },
     "execution_count": 42,
     "metadata": {},
     "output_type": "execute_result"
    }
   ],
   "source": [
    "# are there any values less than zero?\n",
    "np.any(x < 0)"
   ]
  },
  {
   "cell_type": "code",
   "execution_count": 43,
   "metadata": {},
   "outputs": [
    {
     "data": {
      "text/plain": [
       "True"
      ]
     },
     "execution_count": 43,
     "metadata": {},
     "output_type": "execute_result"
    }
   ],
   "source": [
    "# are all values less than 10?\n",
    "np.all(x < 10)"
   ]
  },
  {
   "cell_type": "code",
   "execution_count": 44,
   "metadata": {},
   "outputs": [
    {
     "data": {
      "text/plain": [
       "False"
      ]
     },
     "execution_count": 44,
     "metadata": {},
     "output_type": "execute_result"
    }
   ],
   "source": [
    "# are all values equal to 6?\n",
    "np.all(x == 6)"
   ]
  },
  {
   "cell_type": "code",
   "execution_count": 45,
   "metadata": {},
   "outputs": [
    {
     "data": {
      "text/plain": [
       "array([ True, False,  True])"
      ]
     },
     "execution_count": 45,
     "metadata": {},
     "output_type": "execute_result"
    }
   ],
   "source": [
    "# np.all() and np.any() can be used along particular axes as well\n",
    "np.all(x<8,1)"
   ]
  },
  {
   "cell_type": "code",
   "execution_count": 46,
   "metadata": {},
   "outputs": [
    {
     "data": {
      "text/plain": [
       "array([ True, False,  True,  True])"
      ]
     },
     "execution_count": 46,
     "metadata": {},
     "output_type": "execute_result"
    }
   ],
   "source": [
    "np.all(x<8,0)"
   ]
  },
  {
   "cell_type": "markdown",
   "metadata": {},
   "source": [
    "### Boolean Operators"
   ]
  },
  {
   "cell_type": "code",
   "execution_count": 56,
   "metadata": {},
   "outputs": [
    {
     "ename": "IndexError",
     "evalue": "index 4 is out of bounds for axis 0 with size 3",
     "output_type": "error",
     "traceback": [
      "\u001b[0;31m---------------------------------------------------------------------------\u001b[0m",
      "\u001b[0;31mIndexError\u001b[0m                                Traceback (most recent call last)",
      "\u001b[0;32m<ipython-input-56-d0211c63f488>\u001b[0m in \u001b[0;36m<module>\u001b[0;34m()\u001b[0m\n\u001b[0;32m----> 1\u001b[0;31m \u001b[0mx\u001b[0m\u001b[0;34m[\u001b[0m\u001b[0mnp\u001b[0m\u001b[0;34m.\u001b[0m\u001b[0msum\u001b[0m\u001b[0;34m(\u001b[0m\u001b[0;34m(\u001b[0m\u001b[0mx\u001b[0m\u001b[0;34m>\u001b[0m\u001b[0;36m5\u001b[0m\u001b[0;34m)\u001b[0m \u001b[0;34m&\u001b[0m \u001b[0;34m(\u001b[0m\u001b[0mx\u001b[0m\u001b[0;34m<\u001b[0m\u001b[0;36m10\u001b[0m\u001b[0;34m)\u001b[0m\u001b[0;34m)\u001b[0m\u001b[0;34m]\u001b[0m\u001b[0;34m\u001b[0m\u001b[0;34m\u001b[0m\u001b[0m\n\u001b[0m",
      "\u001b[0;31mIndexError\u001b[0m: index 4 is out of bounds for axis 0 with size 3"
     ]
    }
   ],
   "source": [
    "np.sum((x>5) & (x<10))"
   ]
  },
  {
   "cell_type": "code",
   "execution_count": 50,
   "metadata": {},
   "outputs": [
    {
     "data": {
      "text/plain": [
       "array([[False, False, False, False],\n",
       "       [ True,  True, False, False],\n",
       "       [False, False,  True,  True]])"
      ]
     },
     "execution_count": 50,
     "metadata": {},
     "output_type": "execute_result"
    }
   ],
   "source": [
    "np.bitwise_and((x>5),(x<10))"
   ]
  },
  {
   "cell_type": "markdown",
   "metadata": {},
   "source": [
    " &     :   np.bitwise_and\n",
    "\n",
    "|     :   np.bitwise_or\n",
    "\n",
    "^     :   np.bitwise_xor\n",
    "\n",
    "~     :   np.bitwise_not"
   ]
  },
  {
   "cell_type": "markdown",
   "metadata": {},
   "source": [
    "# Boolean Arrays as Masks"
   ]
  },
  {
   "cell_type": "code",
   "execution_count": 52,
   "metadata": {},
   "outputs": [
    {
     "data": {
      "text/plain": [
       "array([[5, 0, 3, 3],\n",
       "       [7, 9, 3, 5],\n",
       "       [2, 4, 7, 6]])"
      ]
     },
     "execution_count": 52,
     "metadata": {},
     "output_type": "execute_result"
    }
   ],
   "source": [
    "x"
   ]
  },
  {
   "cell_type": "code",
   "execution_count": 53,
   "metadata": {},
   "outputs": [
    {
     "data": {
      "text/plain": [
       "array([[False,  True,  True,  True],\n",
       "       [False, False,  True, False],\n",
       "       [ True,  True, False, False]])"
      ]
     },
     "execution_count": 53,
     "metadata": {},
     "output_type": "execute_result"
    }
   ],
   "source": [
    "x<5"
   ]
  },
  {
   "cell_type": "code",
   "execution_count": 55,
   "metadata": {},
   "outputs": [
    {
     "data": {
      "text/plain": [
       "array([0, 3, 3, 3, 2, 4])"
      ]
     },
     "execution_count": 55,
     "metadata": {},
     "output_type": "execute_result"
    }
   ],
   "source": [
    "# Now to select these values from the array,\n",
    "# we can simply index on this Boolean array;\n",
    "# this is known as a masking operation\n",
    "\n",
    "x[x<5]"
   ]
  },
  {
   "cell_type": "code",
   "execution_count": 59,
   "metadata": {},
   "outputs": [],
   "source": [
    "np.random.rand??"
   ]
  },
  {
   "cell_type": "code",
   "execution_count": 70,
   "metadata": {},
   "outputs": [
    {
     "data": {
      "text/plain": [
       "array([False, False, False, False, False, False, False, False, False,\n",
       "       False, False, False, False, False, False, False, False, False,\n",
       "       False, False, False, False, False, False, False, False, False,\n",
       "       False, False, False, False, False, False, False, False, False,\n",
       "       False, False, False, False, False, False, False, False, False,\n",
       "       False, False, False, False, False, False, False, False, False,\n",
       "       False, False, False, False, False, False, False, False, False,\n",
       "       False, False, False, False, False, False, False, False, False,\n",
       "       False, False, False, False, False, False, False, False, False,\n",
       "       False, False, False, False, False, False, False, False, False,\n",
       "       False, False, False, False, False, False, False, False, False,\n",
       "       False, False, False, False, False, False, False, False, False,\n",
       "       False, False, False, False, False, False, False, False, False,\n",
       "       False, False, False, False, False, False, False, False, False,\n",
       "       False, False, False, False, False, False, False, False, False,\n",
       "       False, False, False, False, False, False, False, False, False,\n",
       "       False, False, False, False, False, False, False, False, False,\n",
       "       False, False, False, False, False, False, False, False, False,\n",
       "       False, False, False, False, False, False, False, False, False,\n",
       "       False, False,  True,  True,  True,  True,  True,  True,  True,\n",
       "        True,  True,  True,  True,  True,  True,  True,  True,  True,\n",
       "        True,  True,  True,  True,  True,  True,  True,  True,  True,\n",
       "        True,  True,  True,  True,  True,  True,  True,  True,  True,\n",
       "        True,  True,  True,  True,  True,  True,  True,  True,  True,\n",
       "        True,  True,  True,  True,  True,  True,  True,  True,  True,\n",
       "        True,  True,  True,  True,  True,  True,  True,  True,  True,\n",
       "        True,  True,  True,  True,  True,  True,  True,  True,  True,\n",
       "        True,  True,  True,  True,  True,  True,  True,  True,  True,\n",
       "        True,  True,  True,  True,  True,  True,  True,  True,  True,\n",
       "        True, False, False, False, False, False, False, False, False,\n",
       "       False, False, False, False, False, False, False, False, False,\n",
       "       False, False, False, False, False, False, False, False, False,\n",
       "       False, False, False, False, False, False, False, False, False,\n",
       "       False, False, False, False, False, False, False, False, False,\n",
       "       False, False, False, False, False, False, False, False, False,\n",
       "       False, False, False, False, False, False, False, False, False,\n",
       "       False, False, False, False, False, False, False, False, False,\n",
       "       False, False, False, False, False, False, False, False, False,\n",
       "       False, False, False, False, False, False, False, False, False,\n",
       "       False, False, False, False, False, False, False, False, False,\n",
       "       False, False, False, False, False])"
      ]
     },
     "execution_count": 70,
     "metadata": {},
     "output_type": "execute_result"
    }
   ],
   "source": [
    "(np.arange(365)-172 < 90) & (np.arange(365) - 172 > 0)"
   ]
  },
  {
   "cell_type": "code",
   "execution_count": 71,
   "metadata": {},
   "outputs": [
    {
     "data": {
      "text/plain": [
       "True"
      ]
     },
     "execution_count": 71,
     "metadata": {},
     "output_type": "execute_result"
    }
   ],
   "source": [
    "bool(9)"
   ]
  },
  {
   "cell_type": "code",
   "execution_count": 72,
   "metadata": {},
   "outputs": [
    {
     "data": {
      "text/plain": [
       "False"
      ]
     },
     "execution_count": 72,
     "metadata": {},
     "output_type": "execute_result"
    }
   ],
   "source": [
    "bool(0)"
   ]
  },
  {
   "cell_type": "code",
   "execution_count": 74,
   "metadata": {},
   "outputs": [],
   "source": [
    "# Difference between (and) and (&) ; (or) and (|)\n",
    "# and and or gauge the truth or falsehood of entire object, \n",
    "# while & and | refer to bits within each object\n",
    "A = np.array([1, 0, 1, 0, 1, 0], dtype=bool)\n",
    "B = np.array([1, 1, 1, 0, 1, 1], dtype=bool)"
   ]
  },
  {
   "cell_type": "code",
   "execution_count": 75,
   "metadata": {},
   "outputs": [
    {
     "data": {
      "text/plain": [
       "array([ True,  True,  True, False,  True,  True])"
      ]
     },
     "execution_count": 75,
     "metadata": {},
     "output_type": "execute_result"
    }
   ],
   "source": [
    "A | B"
   ]
  },
  {
   "cell_type": "code",
   "execution_count": 76,
   "metadata": {},
   "outputs": [
    {
     "ename": "ValueError",
     "evalue": "The truth value of an array with more than one element is ambiguous. Use a.any() or a.all()",
     "output_type": "error",
     "traceback": [
      "\u001b[0;31m---------------------------------------------------------------------------\u001b[0m",
      "\u001b[0;31mValueError\u001b[0m                                Traceback (most recent call last)",
      "\u001b[0;32m<ipython-input-76-ea2c97d9d9ee>\u001b[0m in \u001b[0;36m<module>\u001b[0;34m()\u001b[0m\n\u001b[0;32m----> 1\u001b[0;31m \u001b[0mA\u001b[0m \u001b[0;32mor\u001b[0m \u001b[0mB\u001b[0m\u001b[0;34m\u001b[0m\u001b[0;34m\u001b[0m\u001b[0m\n\u001b[0m",
      "\u001b[0;31mValueError\u001b[0m: The truth value of an array with more than one element is ambiguous. Use a.any() or a.all()"
     ]
    }
   ],
   "source": [
    "A or B"
   ]
  },
  {
   "cell_type": "code",
   "execution_count": null,
   "metadata": {},
   "outputs": [],
   "source": []
  }
 ],
 "metadata": {
  "kernelspec": {
   "display_name": "Python 3",
   "language": "python",
   "name": "python3"
  },
  "language_info": {
   "codemirror_mode": {
    "name": "ipython",
    "version": 3
   },
   "file_extension": ".py",
   "mimetype": "text/x-python",
   "name": "python",
   "nbconvert_exporter": "python",
   "pygments_lexer": "ipython3",
   "version": "3.7.6"
  }
 },
 "nbformat": 4,
 "nbformat_minor": 2
}
