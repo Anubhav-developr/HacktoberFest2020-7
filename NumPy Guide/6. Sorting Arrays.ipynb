{
 "cells": [
  {
   "cell_type": "code",
   "execution_count": 2,
   "metadata": {},
   "outputs": [],
   "source": [
    "import numpy as np"
   ]
  },
  {
   "cell_type": "code",
   "execution_count": 3,
   "metadata": {},
   "outputs": [],
   "source": [
    "# Never to be used sorting algorithm\n",
    "def bogosort(x):\n",
    "    while(np.any(x[:-1] > x[1:])):\n",
    "        np.random.shuffle(x)\n",
    "    return x"
   ]
  },
  {
   "cell_type": "code",
   "execution_count": 46,
   "metadata": {},
   "outputs": [
    {
     "data": {
      "text/plain": [
       "array([662, 872, 739, 444, 200, 693, 261, 328, 483, 361,  45, 667,  48,\n",
       "       910, 546, 630, 380,  67, 597, 109, 127,  69, 177, 764, 544, 595,\n",
       "       339, 349, 919, 461, 578, 344, 545, 590,  26, 310, 977, 515, 434,\n",
       "       561,  12, 911, 742, 606, 866,  65, 491, 341, 902, 162,   9,  45,\n",
       "       145, 241, 287, 570,  97, 225,  39, 775, 630, 132, 201,  14, 145,\n",
       "        20, 147, 366, 526, 378, 298, 741, 800, 109, 177, 321, 183, 652,\n",
       "       684, 483, 837, 164, 649, 592, 769, 495, 578, 459,  45, 362, 198,\n",
       "       770, 455, 229, 643, 467, 158,  32, 100, 293])"
      ]
     },
     "execution_count": 46,
     "metadata": {},
     "output_type": "execute_result"
    }
   ],
   "source": [
    "x = np.random.randint(1000,size = 100)\n",
    "x"
   ]
  },
  {
   "cell_type": "code",
   "execution_count": 33,
   "metadata": {},
   "outputs": [],
   "source": [
    "# Don't run this statement with timeit...run with time\n",
    "# %time bogosort(x)"
   ]
  },
  {
   "cell_type": "code",
   "execution_count": 34,
   "metadata": {},
   "outputs": [
    {
     "name": "stdout",
     "output_type": "stream",
     "text": [
      "CPU times: user 62 µs, sys: 0 ns, total: 62 µs\n",
      "Wall time: 66 µs\n"
     ]
    },
    {
     "data": {
      "text/plain": [
       "array([  3,   8,  26,  52,  55,  63,  63,  98, 101, 105, 115, 125, 126,\n",
       "       135, 135, 138, 144, 158, 163, 171, 175, 178, 183, 189, 215, 217,\n",
       "       218, 220, 240, 240, 271, 287, 291, 293, 335, 340, 343, 354, 377,\n",
       "       377, 382, 384, 391, 399, 403, 407, 408, 411, 412, 420, 420, 430,\n",
       "       439, 439, 459, 467, 508, 514, 516, 533, 535, 548, 568, 574, 600,\n",
       "       604, 608, 609, 654, 668, 669, 694, 710, 717, 722, 726, 729, 740,\n",
       "       783, 793, 796, 812, 817, 821, 828, 846, 848, 850, 879, 885, 886,\n",
       "       886, 895, 919, 956, 964, 972, 984, 993, 998])"
      ]
     },
     "execution_count": 34,
     "metadata": {},
     "output_type": "execute_result"
    }
   ],
   "source": [
    "%time np.sort(x)"
   ]
  },
  {
   "cell_type": "code",
   "execution_count": 35,
   "metadata": {},
   "outputs": [
    {
     "name": "stdout",
     "output_type": "stream",
     "text": [
      "CPU times: user 51 µs, sys: 0 ns, total: 51 µs\n",
      "Wall time: 55.3 µs\n"
     ]
    },
    {
     "data": {
      "text/plain": [
       "array([  3,   8,  26,  52,  55,  63,  63,  98, 101, 105, 115, 125, 126,\n",
       "       135, 135, 138, 144, 158, 163, 171, 175, 178, 183, 189, 215, 217,\n",
       "       218, 220, 240, 240, 271, 287, 291, 293, 335, 340, 343, 354, 377,\n",
       "       377, 382, 384, 391, 399, 403, 407, 408, 411, 412, 420, 420, 430,\n",
       "       439, 439, 459, 467, 508, 514, 516, 533, 535, 548, 568, 574, 600,\n",
       "       604, 608, 609, 654, 668, 669, 694, 710, 717, 722, 726, 729, 740,\n",
       "       783, 793, 796, 812, 817, 821, 828, 846, 848, 850, 879, 885, 886,\n",
       "       886, 895, 919, 956, 964, 972, 984, 993, 998])"
      ]
     },
     "execution_count": 35,
     "metadata": {},
     "output_type": "execute_result"
    }
   ],
   "source": [
    "%time np.sort(x)"
   ]
  },
  {
   "cell_type": "code",
   "execution_count": 40,
   "metadata": {},
   "outputs": [
    {
     "name": "stdout",
     "output_type": "stream",
     "text": [
      "CPU times: user 34 µs, sys: 0 ns, total: 34 µs\n",
      "Wall time: 39.1 µs\n"
     ]
    }
   ],
   "source": [
    "%time  x.sort()"
   ]
  },
  {
   "cell_type": "code",
   "execution_count": 47,
   "metadata": {},
   "outputs": [],
   "source": [
    "i = np.argsort(x) \n",
    "# A related function is argsort , which instead \n",
    "# returns the indices of the sorted elements"
   ]
  },
  {
   "cell_type": "code",
   "execution_count": 49,
   "metadata": {},
   "outputs": [
    {
     "data": {
      "text/plain": [
       "array([50, 40, 63, 65, 34, 97, 58, 88, 51, 10, 12, 45, 17, 21, 56, 98, 19,\n",
       "       73, 20, 61, 52, 64, 66, 96, 49, 81, 22, 74, 76, 90,  4, 62, 57, 93,\n",
       "       53,  6, 54, 99, 70, 35, 75,  7, 26, 47, 31, 27,  9, 89, 67, 69, 16,\n",
       "       38,  3, 92, 87, 29, 95, 79,  8, 46, 85, 37, 68, 24, 32, 14, 39, 55,\n",
       "       86, 30, 33, 83, 25, 18, 43, 60, 15, 94, 82, 77,  0, 11, 78,  5,  2,\n",
       "       71, 42, 23, 84, 91, 59, 72, 80, 44,  1, 48, 13, 41, 28, 36])"
      ]
     },
     "execution_count": 49,
     "metadata": {},
     "output_type": "execute_result"
    }
   ],
   "source": [
    "i"
   ]
  },
  {
   "cell_type": "code",
   "execution_count": 50,
   "metadata": {},
   "outputs": [
    {
     "data": {
      "text/plain": [
       "array([  9,  12,  14,  20,  26,  32,  39,  45,  45,  45,  48,  65,  67,\n",
       "        69,  97, 100, 109, 109, 127, 132, 145, 145, 147, 158, 162, 164,\n",
       "       177, 177, 183, 198, 200, 201, 225, 229, 241, 261, 287, 293, 298,\n",
       "       310, 321, 328, 339, 341, 344, 349, 361, 362, 366, 378, 380, 434,\n",
       "       444, 455, 459, 461, 467, 483, 483, 491, 495, 515, 526, 544, 545,\n",
       "       546, 561, 570, 578, 578, 590, 592, 595, 597, 606, 630, 630, 643,\n",
       "       649, 652, 662, 667, 684, 693, 739, 741, 742, 764, 769, 770, 775,\n",
       "       800, 837, 866, 872, 902, 910, 911, 919, 977])"
      ]
     },
     "execution_count": 50,
     "metadata": {},
     "output_type": "execute_result"
    }
   ],
   "source": [
    "x[i]"
   ]
  },
  {
   "cell_type": "markdown",
   "metadata": {},
   "source": [
    "## Sorting along rows or columns"
   ]
  },
  {
   "cell_type": "code",
   "execution_count": 51,
   "metadata": {},
   "outputs": [
    {
     "name": "stdout",
     "output_type": "stream",
     "text": [
      "[[6 3 7 4 6 9]\n",
      " [2 6 7 4 3 7]\n",
      " [7 2 5 4 1 7]\n",
      " [5 1 4 0 9 5]]\n"
     ]
    }
   ],
   "source": [
    "rand = np.random.RandomState(42)\n",
    "X = rand.randint(0, 10, (4, 6))\n",
    "print(X)"
   ]
  },
  {
   "cell_type": "code",
   "execution_count": 52,
   "metadata": {},
   "outputs": [
    {
     "data": {
      "text/plain": [
       "array([[2, 1, 4, 0, 1, 5],\n",
       "       [5, 2, 5, 4, 3, 7],\n",
       "       [6, 3, 7, 4, 6, 7],\n",
       "       [7, 6, 7, 4, 9, 9]])"
      ]
     },
     "execution_count": 52,
     "metadata": {},
     "output_type": "execute_result"
    }
   ],
   "source": [
    "np.sort(X,0)"
   ]
  },
  {
   "cell_type": "code",
   "execution_count": 54,
   "metadata": {},
   "outputs": [
    {
     "data": {
      "text/plain": [
       "array([[3, 4, 6, 6, 7, 9],\n",
       "       [2, 3, 4, 6, 7, 7],\n",
       "       [1, 2, 4, 5, 7, 7],\n",
       "       [0, 1, 4, 5, 5, 9]])"
      ]
     },
     "execution_count": 54,
     "metadata": {},
     "output_type": "execute_result"
    }
   ],
   "source": [
    "np.sort(X,1)"
   ]
  },
  {
   "cell_type": "markdown",
   "metadata": {},
   "source": [
    "# Partial Sorting"
   ]
  },
  {
   "cell_type": "code",
   "execution_count": 55,
   "metadata": {},
   "outputs": [],
   "source": [
    "x = np.array([7, 2, 3, 1, 6, 5, 4])"
   ]
  },
  {
   "cell_type": "code",
   "execution_count": 56,
   "metadata": {},
   "outputs": [
    {
     "data": {
      "text/plain": [
       "array([2, 1, 3, 4, 6, 5, 7])"
      ]
     },
     "execution_count": 56,
     "metadata": {},
     "output_type": "execute_result"
    }
   ],
   "source": [
    "np.partition(x, 3)\n",
    "# To find the first 3 smallest values in the array"
   ]
  },
  {
   "cell_type": "code",
   "execution_count": 57,
   "metadata": {},
   "outputs": [
    {
     "data": {
      "text/plain": [
       "array([2, 1, 3, 4, 5, 6, 7])"
      ]
     },
     "execution_count": 57,
     "metadata": {},
     "output_type": "execute_result"
    }
   ],
   "source": [
    "np.partition(x, 4)\n",
    "# To find the first 4 smallest values in the array"
   ]
  },
  {
   "cell_type": "code",
   "execution_count": 58,
   "metadata": {},
   "outputs": [
    {
     "data": {
      "text/plain": [
       "array([[6, 3, 7, 4, 6, 9],\n",
       "       [2, 6, 7, 4, 3, 7],\n",
       "       [7, 2, 5, 4, 1, 7],\n",
       "       [5, 1, 4, 0, 9, 5]])"
      ]
     },
     "execution_count": 58,
     "metadata": {},
     "output_type": "execute_result"
    }
   ],
   "source": [
    "# Similarly to sorting, we can\n",
    "# partition along an arbitrary axis \n",
    "# of a multidimensional array\n",
    "X"
   ]
  },
  {
   "cell_type": "code",
   "execution_count": 59,
   "metadata": {},
   "outputs": [
    {
     "data": {
      "text/plain": [
       "array([[3, 4, 6, 7, 6, 9],\n",
       "       [2, 3, 4, 7, 6, 7],\n",
       "       [1, 2, 4, 5, 7, 7],\n",
       "       [0, 1, 4, 5, 9, 5]])"
      ]
     },
     "execution_count": 59,
     "metadata": {},
     "output_type": "execute_result"
    }
   ],
   "source": [
    "np.partition(X, 2, axis=1)"
   ]
  },
  {
   "cell_type": "code",
   "execution_count": 60,
   "metadata": {},
   "outputs": [
    {
     "data": {
      "text/plain": [
       "array([1, 3, 2, 6, 4, 5, 0])"
      ]
     },
     "execution_count": 60,
     "metadata": {},
     "output_type": "execute_result"
    }
   ],
   "source": [
    "# We can also use np.argpartition like np.argsort\n",
    "np.argpartition(x,3)"
   ]
  },
  {
   "cell_type": "code",
   "execution_count": null,
   "metadata": {},
   "outputs": [],
   "source": []
  },
  {
   "cell_type": "code",
   "execution_count": null,
   "metadata": {},
   "outputs": [],
   "source": []
  },
  {
   "cell_type": "code",
   "execution_count": 67,
   "metadata": {},
   "outputs": [
    {
     "data": {
      "text/plain": [
       "5"
      ]
     },
     "execution_count": 67,
     "metadata": {},
     "output_type": "execute_result"
    }
   ],
   "source": []
  },
  {
   "cell_type": "code",
   "execution_count": null,
   "metadata": {},
   "outputs": [],
   "source": []
  }
 ],
 "metadata": {
  "kernelspec": {
   "display_name": "Python 3",
   "language": "python",
   "name": "python3"
  },
  "language_info": {
   "codemirror_mode": {
    "name": "ipython",
    "version": 3
   },
   "file_extension": ".py",
   "mimetype": "text/x-python",
   "name": "python",
   "nbconvert_exporter": "python",
   "pygments_lexer": "ipython3",
   "version": "3.7.6"
  }
 },
 "nbformat": 4,
 "nbformat_minor": 2
}
